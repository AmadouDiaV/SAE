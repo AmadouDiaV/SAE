{
 "cells": [
  {
   "cell_type": "code",
   "execution_count": null,
   "id": "4bae5c23",
   "metadata": {},
   "outputs": [],
   "source": [
    "from math import *\n",
    "from matplotlib.pyplot import *\n",
    "from IPython.display import HTML\n",
    "from matplotlib import animation\n"
   ]
  },
  {
   "cell_type": "markdown",
   "id": "9d182702",
   "metadata": {},
   "source": [
    "<div id=\"haut2page\" style=\"border:3px solid black; padding:3%; font-size:314% ;border-radius : 19px; text-align:center; background-color:#ED6365;font-family: 'Trebuchet MS'\">\n",
    "    SAE MATH \n",
    "\n",
    "</div>\n",
    "\n",
    "\n",
    "# Sujet : Chaine, chemin et circuit eulérien : algorithme de Hierholzer\n",
    "\n",
    "**Problèmatique** : Damien, un agriculteur étant spécialisé dans les pommes de terre rencontre un problème.\n",
    "Il possède un petit terrain et ne peut pas se permettre de repasser à pied par une pousse déjà plantée.\n",
    "Il songe a prendre une machine qui lui permettrait de planter ses pommes de terre sans problème mais avant ça il souhaiterait savoir s'il est possible de planter toute ses pomme de terres sans repasser par une pousse déjà plantée.\n",
    "\n",
    "Nous allons modèliser le problème à l'aide de graphe.\n",
    "\n"
   ]
  },
  {
   "cell_type": "markdown",
   "id": "85eeaa05",
   "metadata": {},
   "source": [
    "# I - Génération de la matrice"
   ]
  },
  {
   "cell_type": "code",
   "execution_count": null,
   "id": "02cc77c8",
   "metadata": {},
   "outputs": [],
   "source": [
    "# Ici nous avons créé une matrice orientée générée aléatoirement\n",
    "\n",
    "from random import randint\n",
    "def ligne(n):\n",
    "    mat = []\n",
    "    for i in range(n):\n",
    "        mat.append(randint(0,1))\n",
    "    return mat\n"
   ]
  },
  {
   "cell_type": "code",
   "execution_count": null,
   "id": "233443e8",
   "metadata": {},
   "outputs": [],
   "source": [
    "\n",
    "def matrice(n):\n",
    "    Matrice = []\n",
    "    for i in range(n):\n",
    "        Matrice.append(ligne(n))\n",
    "    return Matrice  \n",
    "        \n",
    "M = matrice(4)\n",
    "\n",
    "for li in M:\n",
    "    print(li)\n",
    "   "
   ]
  },
  {
   "cell_type": "markdown",
   "id": "d2a85686",
   "metadata": {},
   "source": [
    "Mais dans notre cas nous devons avoir une matrice non orientée.\n",
    "Voyons comment faire.\n",
    "##### Etape n°1 : On enlève les boucles"
   ]
  },
  {
   "cell_type": "code",
   "execution_count": null,
   "id": "bd0bc616",
   "metadata": {},
   "outputs": [],
   "source": [
    "j = 0\n",
    "for i in range(4):\n",
    "    M[i][j] = 0 #On ajoute des 0 sur la diagonale --> si M[0][0] M[1][1] etc..\n",
    "    j += 1\n",
    "\n",
    "for li in M: #Pour avoir un affichage lisible\n",
    "    print(li)"
   ]
  },
  {
   "cell_type": "markdown",
   "id": "0be8b7b2",
   "metadata": {},
   "source": [
    "##### Etape n°2 : Après avoir enlevé les boucles on s'occupe de la symétrie "
   ]
  },
  {
   "cell_type": "code",
   "execution_count": null,
   "id": "5b8c7e73",
   "metadata": {},
   "outputs": [],
   "source": [
    "for i in range(4): #Les colonnes \n",
    "    for j in range(4): #Les lignes\n",
    "        if M[j][i] == 1: #Si il y a un 1 au coordonnées M[0][3] on ajoute 1 au coordonées M[3][0]\n",
    "            M[i][j] = 1\n",
    "            \n",
    "            \n",
    "for li in M:\n",
    "    print(li)"
   ]
  },
  {
   "cell_type": "markdown",
   "id": "0868e4cf",
   "metadata": {},
   "source": [
    "Voici la fonction `MatriceDeso` qui génère aléatoirement une matrice non orientée "
   ]
  },
  {
   "cell_type": "code",
   "execution_count": null,
   "id": "6d12ed89",
   "metadata": {},
   "outputs": [],
   "source": [
    "#Collage des bouts de code vu ci-dessus\n",
    "\n",
    "def MatriceDeso(n):\n",
    "    Ma = matrice(n)\n",
    "    j = 0\n",
    "    \n",
    "    for i in range(n):\n",
    "        Ma[i][j] = 0\n",
    "        j += 1\n",
    "        \n",
    "    for i in range(n):\n",
    "        for k in range(n):\n",
    "            if Ma[k][i] == 1:\n",
    "                Ma[i][k] = 1\n",
    "                \n",
    "    return Ma\n",
    "\n",
    "#---------Test---------\n",
    "Mat = MatriceDeso(4)\n",
    "for li in Mat:\n",
    "    print(li)\n",
    "            \n",
    "    "
   ]
  },
  {
   "cell_type": "markdown",
   "id": "e2911b1a",
   "metadata": {},
   "source": [
    "# II - Circuit eulérien"
   ]
  },
  {
   "cell_type": "markdown",
   "id": "ae0ec04b",
   "metadata": {},
   "source": [
    "Pour trouver un circuit eulérien nous devons savoir si :\n",
    " - **Le graphe est connexe**.\n",
    " - **Il existe un circuit eulérien**."
   ]
  },
  {
   "cell_type": "markdown",
   "id": "d71e401a",
   "metadata": {},
   "source": [
    "Pour savoir si le graphe généré est connexe nous allons utiliser le parcours en profondeur pour vérifier si le graphe passe par tout les sommets"
   ]
  },
  {
   "cell_type": "markdown",
   "id": "c680d8a5",
   "metadata": {},
   "source": [
    "Avant de faire la fonction nous allons faire des fonctions qui nous serons utile :\n",
    "- `voisinDe` qui prend en paramètre un sommet et qui met dans un tableau les voisins du sommets.\n",
    "\n",
    "- `MatToDico` prend en paramètre un graphe et le converti en dictionnaire avec comme clé les sommets et comme valeur ses voisins.\n"
   ]
  },
  {
   "cell_type": "markdown",
   "id": "01987748",
   "metadata": {},
   "source": [
    "#####  1. VoisinDe et MatToDico"
   ]
  },
  {
   "cell_type": "code",
   "execution_count": null,
   "id": "fa75279d",
   "metadata": {},
   "outputs": [],
   "source": [
    "# 0 1 2 3 ---> les sommets \n",
    "# Par exemple si un 1 est present on l'ajoute dans une table voisins avec son indice.\n",
    "\n",
    "def voisinDe(li):\n",
    "    vois = [] #Création de la table\n",
    "    for i,val in enumerate(li):\n",
    "        if val == 1:\n",
    "            vois.append(i) #On ajoute pas la valeur mais l'indice\n",
    "\n",
    "    return vois"
   ]
  },
  {
   "cell_type": "code",
   "execution_count": null,
   "id": "b649b2e5",
   "metadata": {},
   "outputs": [],
   "source": [
    "def MatToDico(G):\n",
    "    dico = {} #Création du dictionnaire\n",
    "    for i,li in enumerate(G):\n",
    "        dico[i] = voisinDe(li) #Liste les voisins par sommet\n",
    "    return dico\n",
    "\n",
    "print(MatToDico(Mat))"
   ]
  },
  {
   "cell_type": "markdown",
   "id": "b4d36a07",
   "metadata": {},
   "source": [
    "##### 2. Le parcous en pronfondeur\n",
    "Nous allons utiliser cette fonction de manière reccursive, c'est à dire que nous allons appeler la fonction dans la fonction.  \n",
    "Car si nous arrivons sur un sommet dejà visité on retourne en arrière jusqu'à avoir un sommet non visité\n"
   ]
  },
  {
   "cell_type": "code",
   "execution_count": null,
   "id": "9edafdaa",
   "metadata": {},
   "outputs": [],
   "source": [
    "#graphe ----> un dictionnaire; s ----> un sommet; Marq ----> un tableau vide \n",
    "def parcours_en_profondeur(graphe, s, Marq):\n",
    "    if s not in Marq:\n",
    "        Marq.append(s) #Si le sommet n'est pas encore marqué on le marque en le mettant dans un tableau\n",
    "\n",
    "    sommets_voisins_non_visites = [] #Création d'une table pour les voisins non visités\n",
    "    \n",
    "    for v in graphe[s]: #Pour toutes les valeurs du sommet s\n",
    "        \n",
    "        if v not in Marq: #Si la valeur n'est pas marquée on l'ajoute dans la table des voisins non visités\n",
    "            \n",
    "            sommets_voisins_non_visites.append(v)\n",
    "    for sommet in sommets_voisins_non_visites: #On lance le parcours en profondeur pour tout les sommets dans la liste des voisins non visités\n",
    "        \n",
    "        parcours_en_profondeur(graphe, sommet, Marq)\n"
   ]
  },
  {
   "cell_type": "markdown",
   "id": "8c303f58",
   "metadata": {},
   "source": [
    "Maintenant pour savoir si le graphe est connexe on regarde si on a parcouru tous les sommets du graphe"
   ]
  },
  {
   "cell_type": "code",
   "execution_count": null,
   "id": "77eb0998",
   "metadata": {},
   "outputs": [],
   "source": [
    "def connexe(graphe, Marq):\n",
    "\n",
    "    if len(Marq) == len(graphe): #renvoie True si la longueur des sommets marqués est égale au nombre de sommets\n",
    "        return True\n",
    "    else:\n",
    "        return False"
   ]
  },
  {
   "cell_type": "code",
   "execution_count": null,
   "id": "e70eff98",
   "metadata": {},
   "outputs": [],
   "source": [
    "def est_connexe(G):\n",
    "\n",
    "    Dic = MatToDico(G) #On met le graphe G en forme de dictionnaire dans la variable Dic\n",
    "    Marq = [] #Tableau des sommets marqués\n",
    "    parcours_en_profondeur(Dic,0,Marq) #On lance le parcours en profondeur avec comme point de depart le sommet 0.\n",
    "\n",
    "    return connexe(Dic,Marq)\n",
    "\n",
    "print(est_connexe(Mat))"
   ]
  },
  {
   "cell_type": "code",
   "execution_count": null,
   "id": "b095539a",
   "metadata": {},
   "outputs": [],
   "source": [
    "#---------Test---------\n",
    "Graphe1 = MatriceDeso(4)\n",
    "for li in Graphe1:\n",
    "    print(li)\n",
    "print(\"----------------------------------\")\n",
    "print(est_connexe(Graphe1))\n"
   ]
  },
  {
   "cell_type": "markdown",
   "id": "ab9e3632",
   "metadata": {},
   "source": [
    "#### Circuit Eulerien\n",
    "##### 1. Existence d'un circuit\n",
    "Un graphe admet un circuit eulérien si le graphe est connexe et s'il possède `0` sommet à degré impair ou `2` sommets à degrés impairs"
   ]
  },
  {
   "cell_type": "code",
   "execution_count": null,
   "id": "9c74dc51",
   "metadata": {},
   "outputs": [],
   "source": [
    "\n",
    "def Possede_circuit_e(G):\n",
    "    if not est_connexe(G):\n",
    "        print(\"Le Graphe n'est pas connexe\")\n",
    "        return False\n",
    "    imp = 0 #Compteur de sommets à degrés impairs\n",
    "    \n",
    "    Dic = MatToDico(G) #On met le graphe G en forme de dictionnaire dans la variable Dic\n",
    "\n",
    "    for val in MatToDico(G): #On parcours les sommets du graphes\n",
    "        \n",
    "        if not len(Dic[val]) % 2 == 0: #Si le degré est impair on incrémente imp de 1\n",
    "            imp += 1\n",
    "    \n",
    "    if imp == 0 or imp == 2: #On renvoie True si le compteur est égal à 0 (que des degrés pairs) ou égal à 2 (2 degrés impairs)\n",
    "        return True\n",
    "    return False #Sinon on renvoie False\n",
    "\n",
    "#---------Test---------\n",
    "Graphe2 = MatriceDeso(4)\n",
    "for li in Graphe2:\n",
    "    print(li)\n",
    "\n",
    "Possede_circuit_e(Graphe2)\n",
    "    \n",
    "\n"
   ]
  },
  {
   "cell_type": "markdown",
   "id": "7520aeef",
   "metadata": {},
   "source": [
    "##### 2. Algorithme de Hierholzer"
   ]
  },
  {
   "cell_type": "markdown",
   "id": "98f0ff18",
   "metadata": {},
   "source": [
    "Maintenant que nous savons determiner si un graphe est eulerien ou pas, appliquons l'algorithme de Hierholzer.  \n",
    "\n",
    "l'algorithme de Hierholzer permet de déterminer un chemin eulérien.\n",
    "\n",
    "Voici les étapes de l'algorithme :\n",
    "- Vérifier si le graphe admet un chemin eulérien\n",
    "- Choisir un sommet de départ.\n",
    "- Avancer jusqu'à retomber sur le sommet de depart en ne repassant pas par le même sommet --> C1 \n",
    "- Faire de même pour les sommets du C1 s'ils ont des voisins qui n'ont pas été visités ---> C1\n",
    "- Répetér jusqu'à ce que tous les sommets soient parcourus"
   ]
  },
  {
   "cell_type": "code",
   "execution_count": null,
   "id": "0edd10be",
   "metadata": {},
   "outputs": [],
   "source": [
    "def hier(G): #parcours_en_pronfondeur ressemble à l'algorithme de Hierholzer\n",
    "    if not Possede_circuit_e(G):\n",
    "        return False\n",
    "    Dic = MatToDico(G)\n",
    "        \n",
    "    chem = []\n",
    "    parcours_en_profondeur(MatToDico(G),0,chem)\n",
    "    print('-------------------')\n",
    "    print(chem)"
   ]
  },
  {
   "cell_type": "code",
   "execution_count": null,
   "id": "8b8e8ad7",
   "metadata": {},
   "outputs": [],
   "source": [
    "#---------Test---------\n",
    "\n",
    "Graphe2 = MatriceDeso(6)\n",
    "while hier(Graphe2) == False: #Lance la fonction tant qu'il n'y a pas un cas qui marche\n",
    "    Graphe2 = MatriceDeso(6)\n",
    "    for li in Graphe2:\n",
    "        print(li)\n",
    "    print('--------------------------------')\n",
    "dessineGraphe(Graphe2)\n",
    "hier(Graphe2)"
   ]
  },
  {
   "cell_type": "markdown",
   "id": "9f078e7b",
   "metadata": {},
   "source": [
    "# III - Tentative Animation"
   ]
  },
  {
   "cell_type": "code",
   "execution_count": null,
   "id": "b7fbca3f",
   "metadata": {},
   "outputs": [],
   "source": [
    "def racineNieme(n) : \n",
    "    res=[]\n",
    "    for i in range(n) : res.append([cos(2*pi*i/n), sin(2*pi*i/n)]) \n",
    "    return res\n",
    "\n",
    "def dessineGraphe(M, couleur='r') : \n",
    "    nb_sommet = len(M)\n",
    "    \n",
    "    sommet = racineNieme(nb_sommet)\n",
    "    for i in range(nb_sommet) : text(sommet[i][0], sommet[i][1], \"$x_{\"+str(i+1)+\"}$\")\n",
    "\n",
    "    for i in range(nb_sommet) :\n",
    "        for j in range(nb_sommet) : \n",
    "            if(M[i][j]!=0) : \n",
    "                plot([sommet[i][0], sommet[j][0]], [sommet[i][1], sommet[j][1]], couleur)\n",
    "    show()\n",
    "\n",
    "    \n",
    "G = MatriceDeso(6)\n",
    "nb_sommet = len(G)\n",
    "sommet = racineNieme(nb_sommet)\n",
    "fig = figure(figsize=(5,5), dpi=120, facecolor=\"lightgrey\")\n",
    "\n",
    "\n",
    "f, = plot([],[],'r')\n",
    "ylim(-2,2)\n",
    "xlim(-2,2)\n",
    "\n",
    "\n",
    "\n",
    "def MonAnimation(num_frame,couleur ='r'):\n",
    "    nb_sommet = len(G)\n",
    "    \n",
    "    sommet = racineNieme(nb_sommet)\n",
    "    for i in range(nb_sommet) : text(sommet[i][0], sommet[i][1], \"$x_{\"+str(i+1)+\"}$\")\n",
    "\n",
    "    for i in range(nb_sommet) :\n",
    "        for j in range(nb_sommet) : \n",
    "            if(G[i][j]!=0) : \n",
    "                f.set_data([sommet[i][0], sommet[j][0]],[sommet[i][1], sommet[j][1]])  \n",
    "    return()\n",
    "ani = animation.FuncAnimation(fig,MonAnimation,nb_sommet+1)\n",
    "\n",
    "HTML(ani.to_jshtml())"
   ]
  }
 ],
 "metadata": {
  "kernelspec": {
   "display_name": "Python 3",
   "language": "python",
   "name": "python3"
  },
  "language_info": {
   "codemirror_mode": {
    "name": "ipython",
    "version": 3
   },
   "file_extension": ".py",
   "mimetype": "text/x-python",
   "name": "python",
   "nbconvert_exporter": "python",
   "pygments_lexer": "ipython3",
   "version": "3.8.8"
  },
  "vscode": {
   "interpreter": {
    "hash": "56eb81fa9d2898839f6704844c83565fab05d4a70fe4ca58c3303b200f7c8d0b"
   }
  }
 },
 "nbformat": 4,
 "nbformat_minor": 5
}
